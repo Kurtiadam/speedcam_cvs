{
  "nbformat": 4,
  "nbformat_minor": 0,
  "metadata": {
    "colab": {
      "provenance": [],
      "authorship_tag": "ABX9TyO5kBaFMopK195chq+vbJ28",
      "include_colab_link": true
    },
    "kernelspec": {
      "name": "python3",
      "display_name": "Python 3"
    },
    "language_info": {
      "name": "python"
    }
  },
  "cells": [
    {
      "cell_type": "markdown",
      "metadata": {
        "id": "view-in-github",
        "colab_type": "text"
      },
      "source": [
        "<a href=\"https://colab.research.google.com/github/Kurtiadam/speedcam_cvs/blob/main/OCR/OCR_tryings.ipynb\" target=\"_parent\"><img src=\"https://colab.research.google.com/assets/colab-badge.svg\" alt=\"Open In Colab\"/></a>"
      ]
    },
    {
      "cell_type": "code",
      "source": [
        "!sudo apt install tesseract-ocr\n",
        "!pip install pytesseract"
      ],
      "metadata": {
        "colab": {
          "base_uri": "https://localhost:8080/"
        },
        "id": "YGZBgzxcarDb",
        "outputId": "1b45648b-f79d-4f89-a178-6c298cb841c9"
      },
      "execution_count": 16,
      "outputs": [
        {
          "output_type": "stream",
          "name": "stdout",
          "text": [
            "Reading package lists... Done\n",
            "Building dependency tree       \n",
            "Reading state information... Done\n",
            "tesseract-ocr is already the newest version (4.1.1-2build2).\n",
            "0 upgraded, 0 newly installed, 0 to remove and 34 not upgraded.\n",
            "Looking in indexes: https://pypi.org/simple, https://us-python.pkg.dev/colab-wheels/public/simple/\n",
            "Requirement already satisfied: pytesseract in /usr/local/lib/python3.10/dist-packages (0.3.10)\n",
            "Requirement already satisfied: packaging>=21.3 in /usr/local/lib/python3.10/dist-packages (from pytesseract) (23.1)\n",
            "Requirement already satisfied: Pillow>=8.0.0 in /usr/local/lib/python3.10/dist-packages (from pytesseract) (8.4.0)\n",
            "Downloading...\n",
            "From: https://drive.google.com/uc?id=1DlSijY3W4TVgQ0u7WOoAR062dZGU9ZqZ\n",
            "To: /content/RH-BCC1-LPR_giorno_post_md.png\n",
            "100% 508k/508k [00:00<00:00, 108MB/s]\n",
            "Downloading...\n",
            "From: https://drive.google.com/uc?id=1h68_ujBlyFWElTKJkyfSQaRNQ7fD86nM\n",
            "To: /content/car.jpg\n",
            "100% 115k/115k [00:00<00:00, 78.9MB/s]\n",
            "Downloading...\n",
            "From: https://drive.google.com/uc?id=12NS_6E_RqafeeV_ocxFkTCrit8W89tf6\n",
            "To: /content/test_lp.png\n",
            "100% 11.1k/11.1k [00:00<00:00, 32.8MB/s]\n",
            "Downloading...\n",
            "From: https://drive.google.com/uc?id=1BjUBwhLM90CWCj-ShFrEXjlWn3vtHuhY\n",
            "To: /content/test_lp2.png\n",
            "100% 14.1k/14.1k [00:00<00:00, 36.3MB/s]\n",
            "Downloading...\n",
            "From: https://drive.google.com/uc?id=1nTMm8Ampr-fiKNvkYzFqMGcRujk8iiHx\n",
            "To: /content/test_lp3.png\n",
            "100% 8.61k/8.61k [00:00<00:00, 22.6MB/s]\n",
            "Downloading...\n",
            "From: https://drive.google.com/uc?id=1BES-c73I0Nfk37EHXhliDLqz8NfQBC4X\n",
            "To: /content/test_lp4_big.png\n",
            "100% 127k/127k [00:00<00:00, 113MB/s]\n",
            "/usr/local/lib/python3.10/dist-packages/gdown/parse_url.py:35: UserWarning: You specified a Google Drive link that is not the correct link to download a file. You might want to try `--fuzzy` option or the following url: https://drive.google.com/uc?id=1nO6BhnVx4_eT542hx8fooG5h1xPsZsMX\n",
            "  warnings.warn(\n",
            "Downloading...\n",
            "From: https://drive.google.com/file/d/1nO6BhnVx4_eT542hx8fooG5h1xPsZsMX/view?usp=sharing\n",
            "To: /content/view?usp=sharing\n",
            "75.6kB [00:00, 15.7MB/s]\n"
          ]
        }
      ]
    },
    {
      "cell_type": "code",
      "source": [
        "!gdown https://drive.google.com/uc?id=1DlSijY3W4TVgQ0u7WOoAR062dZGU9ZqZ\n",
        "!gdown https://drive.google.com/uc?id=1h68_ujBlyFWElTKJkyfSQaRNQ7fD86nM\n",
        "!gdown https://drive.google.com/uc?id=12NS_6E_RqafeeV_ocxFkTCrit8W89tf6\n",
        "!gdown https://drive.google.com/uc?id=1BjUBwhLM90CWCj-ShFrEXjlWn3vtHuhY\n",
        "!gdown https://drive.google.com/uc?id=1nTMm8Ampr-fiKNvkYzFqMGcRujk8iiHx\n",
        "!gdown https://drive.google.com/uc?id=1jvNUlb95NfcPdp6_rereT9GRPlpuuOjf\n",
        "!gdown https://drive.google.com/uc?id=1nO6BhnVx4_eT542hx8fooG5h1xPsZsMX"
      ],
      "metadata": {
        "id": "SBGy9e3jUwwm",
        "outputId": "74690a1e-ff61-487d-82ec-c6e692124e42",
        "colab": {
          "base_uri": "https://localhost:8080/"
        }
      },
      "execution_count": 30,
      "outputs": [
        {
          "output_type": "stream",
          "name": "stdout",
          "text": [
            "Downloading...\n",
            "From: https://drive.google.com/uc?id=1DlSijY3W4TVgQ0u7WOoAR062dZGU9ZqZ\n",
            "To: /content/RH-BCC1-LPR_giorno_post_md.png\n",
            "100% 508k/508k [00:00<00:00, 151MB/s]\n",
            "Downloading...\n",
            "From: https://drive.google.com/uc?id=1h68_ujBlyFWElTKJkyfSQaRNQ7fD86nM\n",
            "To: /content/car.jpg\n",
            "100% 115k/115k [00:00<00:00, 103MB/s]\n",
            "Downloading...\n",
            "From: https://drive.google.com/uc?id=12NS_6E_RqafeeV_ocxFkTCrit8W89tf6\n",
            "To: /content/test_lp.png\n",
            "100% 11.1k/11.1k [00:00<00:00, 39.7MB/s]\n",
            "Downloading...\n",
            "From: https://drive.google.com/uc?id=1BjUBwhLM90CWCj-ShFrEXjlWn3vtHuhY\n",
            "To: /content/test_lp2.png\n",
            "100% 14.1k/14.1k [00:00<00:00, 51.6MB/s]\n",
            "Downloading...\n",
            "From: https://drive.google.com/uc?id=1nTMm8Ampr-fiKNvkYzFqMGcRujk8iiHx\n",
            "To: /content/test_lp3.png\n",
            "100% 8.61k/8.61k [00:00<00:00, 29.8MB/s]\n",
            "Downloading...\n",
            "From: https://drive.google.com/uc?id=1jvNUlb95NfcPdp6_rereT9GRPlpuuOjf\n",
            "To: /content/test_lp4_big.png\n",
            "100% 4.41k/4.41k [00:00<00:00, 16.2MB/s]\n",
            "Downloading...\n",
            "From: https://drive.google.com/uc?id=1nO6BhnVx4_eT542hx8fooG5h1xPsZsMX\n",
            "To: /content/test_lp4.png\n",
            "100% 3.03k/3.03k [00:00<00:00, 12.6MB/s]\n"
          ]
        }
      ]
    },
    {
      "cell_type": "code",
      "source": [
        "import pytesseract as pt\n",
        "from pytesseract import Output\n",
        "import cv2\n",
        "from google.colab.patches import cv2_imshow\n",
        "import numpy as np\n",
        "\n",
        "test_lp = cv2.imread('/content/test_lp4_big.png')\n",
        "w,h = test_lp.shape[:2]\n",
        "\n",
        "# Edge detection and correction\n",
        "cv2_imshow(test_lp)\n",
        "test_lp_gray = cv2.cvtColor(test_lp, cv2.COLOR_BGR2GRAY)\n",
        "\n",
        "rectKern = cv2.getStructuringElement(cv2.MORPH_RECT, (13, 5))\n",
        "blackhat = cv2.morphologyEx(test_lp_gray, cv2.MORPH_BLACKHAT, rectKern)\n",
        "cv2_imshow(blackhat)\n",
        "\n",
        "edges = cv2.Canny(blackhat, 50, 150, apertureSize=3)\n",
        "lines = cv2.HoughLines(blackhat, 1, np.pi / 180, 50)\n",
        "# if lines is not None:\n",
        "#     for line in lines:\n",
        "#         rho, theta = line[0]\n",
        "#         a = np.cos(theta)\n",
        "#         b = np.sin(theta)\n",
        "#         x0 = a * rho\n",
        "#         y0 = b * rho\n",
        "#         x1 = int(x0 + 1000 * (-b))\n",
        "#         y1 = int(y0 + 1000 * (a))\n",
        "#         x2 = int(x0 - 1000 * (-b))\n",
        "#         y2 = int(y0 - 1000 * (a))\n",
        "        \n",
        "#         cv2.line(test_lp, (x1, y1), (x2, y2), (0, 0, 255), 2)\n",
        "# cv2.imshow('Lines', test_lp)\n",
        "\n",
        "angles = []\n",
        "for line in lines:\n",
        "    rho, theta = line[0]\n",
        "    angle = np.rad2deg(theta)\n",
        "    angles.append(angle)\n",
        "predominant_angle = np.median(angles)\n",
        "print(predominant_angle)\n",
        "rotation_matrix = cv2.getRotationMatrix2D((w / 2, h / 2),predominant_angle-90, 1)\n",
        "corrected_image = cv2.warpAffine(blackhat, rotation_matrix, (h, w))\n",
        "cv2_imshow(corrected_image)\n",
        "\n",
        "\n",
        "# Enhancing image\n",
        "test_lp_gray_bw = cv2.threshold(corrected_image, 0, 255,cv2. THRESH_BINARY | cv2.THRESH_OTSU)[1]\n",
        "cv2_imshow(test_lp_gray_bw)\n",
        "kernel = cv2.getStructuringElement(cv2.MORPH_RECT, (2, 2))\n",
        "eroded_image = cv2.erode(test_lp_gray_bw, kernel, iterations=1)\n",
        "# dilated_image = cv2.dilate(eroded_image, kernel, iterations=1)\n",
        "\n",
        "\n",
        "# pytesseract\n",
        "alphanumeric = \"ABCDEFGHIJKLMNOPQRSTUVWXYZ0123456789-\"\n",
        "options = \"-c tessedit_char_whitelist={}\".format(alphanumeric)\n",
        "options += \" --psm {}\".format(7)\n",
        "\n",
        "data = pt.image_to_data(test_lp, config=options, output_type=Output.DICT)\n",
        "confidences = data['conf']\n",
        "confidences = [float(c) for c in confidences if c != '-1']\n",
        "conf = np.mean(confidences) / 100\n",
        "text = data['text']\n",
        "text = ' '.join(text).strip()\n",
        "cv2_imshow(test_lp_gray_bw)\n",
        "cv2_imshow(eroded_image)\n",
        "print(\"OCR PRED: \", text, \"CONF: \", confidences)"
      ],
      "metadata": {
        "colab": {
          "base_uri": "https://localhost:8080/",
          "height": 214
        },
        "id": "TAaSlBiha_-M",
        "outputId": "02d8aadd-7c0e-4338-e297-bfeb2eeb3d31"
      },
      "execution_count": 31,
      "outputs": [
        {
          "output_type": "display_data",
          "data": {
            "text/plain": [
              "<PIL.Image.Image image mode=RGB size=74x27 at 0x7F1C56CE1BA0>"
            ],
            "image/png": "[encoded data removed]"
          },
          "metadata": {}
        },
        {
          "output_type": "display_data",
          "data": {
            "text/plain": [
              "<PIL.Image.Image image mode=L size=74x27 at 0x7F1C56CE1BA0>"
            ],
            "image/png": "[encoded data removed]"
          },
          "metadata": {}
        },
        {
          "output_type": "stream",
          "name": "stdout",
          "text": [
            "90.99999\n"
          ]
        },
        {
          "output_type": "display_data",
          "data": {
            "text/plain": [
              "<PIL.Image.Image image mode=L size=74x27 at 0x7F1C56CE37C0>"
            ],
            "image/png": "[encoded data removed]"
          },
          "metadata": {}
        },
        {
          "output_type": "display_data",
          "data": {
            "text/plain": [
              "<PIL.Image.Image image mode=L size=74x27 at 0x7F1C56CE37C0>"
            ],
            "image/png": "[encoded data removed]"
          },
          "metadata": {}
        },
        {
          "output_type": "display_data",
          "data": {
            "text/plain": [
              "<PIL.Image.Image image mode=L size=74x27 at 0x7F1C5798B2B0>"
            ],
            "image/png": "[encoded data removed]"
          },
          "metadata": {}
        },
        {
          "output_type": "display_data",
          "data": {
            "text/plain": [
              "<PIL.Image.Image image mode=L size=74x27 at 0x7F1C56CE1300>"
            ],
            "image/png": "[encoded data removed]"
          },
          "metadata": {}
        },
        {
          "output_type": "stream",
          "name": "stdout",
          "text": [
            "OCR PRED:  P1D-291 CONF:  [-1.0, -1.0, -1.0, -1.0, 0.0]\n"
          ]
        }
      ]
    }
  ]
}